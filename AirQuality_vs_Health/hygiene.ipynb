{
 "cells": [
  {
   "cell_type": "code",
   "execution_count": 2,
   "metadata": {},
   "outputs": [
    {
     "name": "stdout",
     "output_type": "stream",
     "text": [
      "Country: Russian Federation, Year: 2022, Value: 89.4185264529743\n",
      "Country: China, Year: 2022, Value: 95.8923614069453\n",
      "Country: India, Year: 2022, Value: 78.3885599466666\n",
      "Country: United States, Year: 2022, Value: 99.631610907923\n",
      "Country: Indonesia, Year: 2022, Value: 88.156880601993\n"
     ]
    }
   ],
   "source": [
    "import requests\n",
    "\n",
    "# List of 5 most polluted country codes\n",
    "countries = ['RU', 'CN', 'IN', 'US', 'ID']\n",
    "\n",
    "# Indicator for basic sanitation services\n",
    "indicator = 'SH.STA.BASS.ZS'\n",
    "\n",
    "# Base URL for the World Bank API\n",
    "base_url = \"https://api.worldbank.org/v2/country/{}/indicator/{}?date=2022:2022&format=json\"\n",
    "\n",
    "# Function to fetch data for each country\n",
    "def fetch_sanitation_data(country_code, indicator):\n",
    "    url = base_url.format(country_code, indicator)\n",
    "    response = requests.get(url)\n",
    "    if response.status_code == 200:\n",
    "        data = response.json()\n",
    "        # Check if data is available and print the relevant information\n",
    "        if data and len(data) > 1 and data[1]:\n",
    "            latest_data = data[1][0] \n",
    "            print(f\"Country: {latest_data['country']['value']}, Year: {latest_data['date']}, Value: {latest_data['value']}\")\n",
    "        else:\n",
    "            print(f\"No data available for 2022 for country: {country_code}\")\n",
    "    else:\n",
    "        print(f\"Error fetching data for country: {country_code}, Status Code: {response.status_code}\")\n",
    "\n",
    "\n",
    "for country in countries:\n",
    "    fetch_sanitation_data(country, indicator)\n"
   ]
  }
 ],
 "metadata": {
  "kernelspec": {
   "display_name": "base",
   "language": "python",
   "name": "python3"
  },
  "language_info": {
   "codemirror_mode": {
    "name": "ipython",
    "version": 3
   },
   "file_extension": ".py",
   "mimetype": "text/x-python",
   "name": "python",
   "nbconvert_exporter": "python",
   "pygments_lexer": "ipython3",
   "version": "3.12.4"
  }
 },
 "nbformat": 4,
 "nbformat_minor": 2
}
