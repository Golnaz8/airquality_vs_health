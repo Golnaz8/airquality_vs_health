{
 "cells": [
  {
   "cell_type": "markdown",
   "metadata": {},
   "source": [
    "### Determine the Null Hypothesis and the Alternative Hypothesis:\n",
    "- Null Hypothesis: There is no significant difference in mortality rates between cities with high and low pollution levels.\n",
    "- Alternative Hypothesis: There is a significant difference in mortality rates between cities with high and low pollution levels."
   ]
  },
  {
   "cell_type": "markdown",
   "metadata": {},
   "source": [
    "### Identify the appropriate statistical test:\n"
   ]
  },
  {
   "cell_type": "markdown",
   "metadata": {},
   "source": [
    "\"Independant T-Test\" : To use a two-sample T-Test to compare the means of two groups of PM2.5 pollution levels (High & low)."
   ]
  },
  {
   "cell_type": "markdown",
   "metadata": {},
   "source": [
    "### Prepare Data and Perform the T-Test:"
   ]
  },
  {
   "cell_type": "code",
   "execution_count": 5,
   "metadata": {},
   "outputs": [],
   "source": [
    "#Dependencies\n",
    "import pandas as pd\n",
    "import scipy.stats as stats\n",
    "from scipy.stats import ttest_ind"
   ]
  },
  {
   "cell_type": "code",
   "execution_count": 15,
   "metadata": {},
   "outputs": [],
   "source": [
    "#Define the Dataset csv path\n",
    "csv_path = \"../AirQuality_vs_Health/Resources/average_air_quality_health.csv\"\n",
    "\n",
    "#Read csv in a dataframe\n",
    "testing_df = pd.read_csv(csv_path)\n",
    "\n",
    "#Show Dataframe\n",
    "testing_df\n",
    "\n",
    "#Define the acceptable significance value\n",
    "pollution_accept_val = 11\n",
    "\n",
    "# Classify cities into high and low pollution groups\n",
    "high_pollution = testing_df[testing_df['PM2.5'] > pollution_accept_val]['MortalityRate_per_100k']\n",
    "low_pollution = testing_df[testing_df['PM2.5'] <= pollution_accept_val]['MortalityRate_per_100k']\n",
    "\n",
    "# Perform the t-test\n",
    "t_stat, p_value = ttest_ind(high_pollution, low_pollution)\n"
   ]
  },
  {
   "cell_type": "code",
   "execution_count": null,
   "metadata": {},
   "outputs": [],
   "source": []
  }
 ],
 "metadata": {
  "kernelspec": {
   "display_name": "Python 3",
   "language": "python",
   "name": "python3"
  },
  "language_info": {
   "codemirror_mode": {
    "name": "ipython",
    "version": 3
   },
   "file_extension": ".py",
   "mimetype": "text/x-python",
   "name": "python",
   "nbconvert_exporter": "python",
   "pygments_lexer": "ipython3",
   "version": "3.12.7"
  }
 },
 "nbformat": 4,
 "nbformat_minor": 2
}
